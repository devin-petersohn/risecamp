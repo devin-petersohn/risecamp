{
 "cells": [
  {
   "cell_type": "markdown",
   "metadata": {},
   "source": [
    "![LOGO](img/MODIN_ver2_hrz.png)\n",
    "\n",
    "<center><h2>Scale your pandas workflows by changing one line of code</h2>\n"
   ]
  },
  {
   "cell_type": "markdown",
   "metadata": {},
   "source": [
    "# Exercise 3: Not Implemented and Looping\n",
    "\n",
    "**GOAL**: Learn what happens when a function is not yet supported in Modin and what functionality is not possible to accelerate"
   ]
  },
  {
   "cell_type": "markdown",
   "metadata": {},
   "source": [
    "When functionality has not yet been implemented, we default to pandas\n",
    "\n",
    "![](img/convert_to_pandas.png)\n",
    "\n",
    "We convert a Modin dataframe to pandas to do the operation, then convert it back once it is finished. These operations will have a high overhead due to the communication involved and will take longer than pandas.\n",
    "\n",
    "When this is happening, a warning will be given to the user to inform them that this operation will take longer than usual. For example, `DataFrame.kurtosis` is not yet implemented. In this case, when a user tries to use it, they will see this warning:\n",
    "\n",
    "```\n",
    "UserWarning: `DataFrame.kurtosis` defaulting to pandas implementation.\n",
    "```"
   ]
  },
  {
   "cell_type": "markdown",
   "metadata": {},
   "source": [
    "## Concept for exercise: Default to pandas\n",
    "\n",
    "In this section of the exercise we will see first-hand how the runtime is affected by operations that are not implemented."
   ]
  },
  {
   "cell_type": "code",
   "execution_count": null,
   "metadata": {},
   "outputs": [],
   "source": [
    "import modin.pandas as pd\n",
    "import numpy as np\n",
    "import time\n",
    "\n",
    "frame_data = np.random.randint(0, 100, size=(2**12, 2**8))\n",
    "df = pd.DataFrame(frame_data).add_prefix(\"col\")"
   ]
  },
  {
   "cell_type": "code",
   "execution_count": null,
   "metadata": {},
   "outputs": [],
   "source": [
    "start = time.time()\n",
    "\n",
    "kurtosis = df.kurtosis()\n",
    "\n",
    "end = time.time()\n",
    "print(\"Modin kurtosis took {} seconds.\".format(end - start))"
   ]
  },
  {
   "cell_type": "code",
   "execution_count": null,
   "metadata": {},
   "outputs": [],
   "source": [
    "kurtosis"
   ]
  },
  {
   "cell_type": "code",
   "execution_count": null,
   "metadata": {},
   "outputs": [],
   "source": [
    "type(kurtosis)"
   ]
  },
  {
   "cell_type": "markdown",
   "metadata": {},
   "source": [
    "## Concept for exercise: Register custom functions\n",
    "\n",
    "Modin's user-facing API is pandas, but it is possible that we do not yet support your favorite or most-needed functionalities. It is also possible that your user-defined function can be executed more efficiently if you pre-define the behavior or computing paradigm. To solve either case, it is possible to register a custom function to be applied to your data."
   ]
  },
  {
   "cell_type": "markdown",
   "metadata": {},
   "source": [
    "### Registering a custom function for all query compilers\n",
    "\n",
    "To register a custom function for a query compiler, we first need to import it:\n",
    "\n",
    "```python\n",
    "from modin.backends.pandas.query_compiler import PandasQueryCompiler\n",
    "```\n",
    "\n",
    "The `PandasQueryCompiler` is responsible for defining and compiling the queries that can be operated on by Modin, and is specific to the pandas backend. Any queries defined here must also both be compatible with and result in a `pandas.DataFrame`. Many functionalities are very simply implemented, as you can see in the current code: [Link](https://github.com/modin-project/modin/blob/f15fb8ea776ed039893130b1e85053e875912d4b/modin/backends/pandas/query_compiler.py#L365)."
   ]
  },
  {
   "cell_type": "code",
   "execution_count": null,
   "metadata": {},
   "outputs": [],
   "source": []
  }
 ],
 "metadata": {
  "kernelspec": {
   "display_name": "Python 3",
   "language": "python",
   "name": "python3"
  },
  "language_info": {
   "codemirror_mode": {
    "name": "ipython",
    "version": 3
   },
   "file_extension": ".py",
   "mimetype": "text/x-python",
   "name": "python",
   "nbconvert_exporter": "python",
   "pygments_lexer": "ipython3",
   "version": "3.6.8"
  }
 },
 "nbformat": 4,
 "nbformat_minor": 2
}
